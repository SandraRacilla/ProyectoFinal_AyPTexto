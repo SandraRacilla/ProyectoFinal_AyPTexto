{
 "cells": [
  {
   "cell_type": "markdown",
   "metadata": {
    "id": "b46KWzqigbBG"
   },
   "source": [
    "# Clasificación de Posturas\n",
    "Basado en el cuaderno Multi-class text classification (TFIDF) de Selene Reyes. Disponible en https://www.kaggle.com/selener/multi-class-text-classification-tfidf"
   ]
  },
  {
   "cell_type": "markdown",
   "metadata": {
    "id": "rPNmMZ2xgvXo"
   },
   "source": [
    "### Importación de bibliotecas y datos"
   ]
  },
  {
   "cell_type": "code",
   "execution_count": 1,
   "metadata": {
    "id": "RKLno2wnImev"
   },
   "outputs": [],
   "source": [
    "# Importación de bibliotecas a usar\n",
    "import pandas as pd\n",
    "import numpy as np\n",
    "import matplotlib.pyplot as plt\n",
    "import seaborn as sns\n",
    "from sklearn.feature_extraction.text import TfidfVectorizer\n",
    "from sklearn.feature_selection import chi2\n",
    "from IPython.display import display\n",
    "from sklearn.model_selection import train_test_split\n",
    "from sklearn.naive_bayes import MultinomialNB, CategoricalNB\n",
    "from sklearn.linear_model import LogisticRegression\n",
    "from sklearn.ensemble import RandomForestClassifier\n",
    "from sklearn.svm import LinearSVC, SVC\n",
    "from sklearn.model_selection import cross_val_score\n",
    "from sklearn.metrics import confusion_matrix\n",
    "from sklearn import metrics"
   ]
  },
  {
   "cell_type": "code",
   "execution_count": 2,
   "metadata": {
    "colab": {
     "base_uri": "https://localhost:8080/"
    },
    "id": "vr47j6rcFXun",
    "outputId": "5c8ca910-d59d-4e09-f234-fdd46b656ed1"
   },
   "outputs": [
    {
     "name": "stdout",
     "output_type": "stream",
     "text": [
      "['.~lock.train.csv#', 'test.csv', 'train.csv']\n"
     ]
    }
   ],
   "source": [
    "# Los tweets para entrenamiento y pruebas se encuentran en el directorio\n",
    "# StanceTweetLabeled. Listamos el directorio para verificar que se encuentran\n",
    "# cargados.\n",
    "import os\n",
    "print(os.listdir(\"./StanceTweetLabeled\"))"
   ]
  },
  {
   "cell_type": "code",
   "execution_count": 3,
   "metadata": {
    "colab": {
     "base_uri": "https://localhost:8080/"
    },
    "id": "qpGoxbDJI44E",
    "outputId": "f02cb37c-d118-4539-e622-4765a11f02f8"
   },
   "outputs": [
    {
     "name": "stdout",
     "output_type": "stream",
     "text": [
      "Forma de df_train: (2914, 5)\n",
      "Forma de df_test: (1956, 5)\n"
     ]
    }
   ],
   "source": [
    "# Importando datos\n",
    "df_train = pd.read_csv('./StanceTweetLabeled/train.csv' , engine='python')\n",
    "df_test = pd.read_csv('./StanceTweetLabeled/test.csv' , engine='python')\n",
    "print(\"Forma de df_train:\",df_train.shape)\n",
    "print(\"Forma de df_test:\",df_test.shape)"
   ]
  },
  {
   "cell_type": "markdown",
   "metadata": {
    "id": "h5_-a4sSFNmj"
   },
   "source": [
    "El dataset original tiene divididos los datos en datos de prueba y datos de entrenamiento. Vamos a combinarlos en uno sólo debido a que posteriormente dividiremos a los datos aplicando validación cruzada."
   ]
  },
  {
   "cell_type": "code",
   "execution_count": 4,
   "metadata": {
    "colab": {
     "base_uri": "https://localhost:8080/"
    },
    "id": "kQSavW3pDzvZ",
    "outputId": "8af071c1-a1de-4bf9-f2f0-b7fb1959e8fb"
   },
   "outputs": [
    {
     "data": {
      "text/plain": [
       "(4870, 5)"
      ]
     },
     "execution_count": 4,
     "metadata": {},
     "output_type": "execute_result"
    }
   ],
   "source": [
    "df = df_train.append(df_test)\n",
    "df.shape"
   ]
  },
  {
   "cell_type": "markdown",
   "metadata": {
    "id": "y9LXZh58Nhg0"
   },
   "source": [
    "### Análisis de datos exploratorio"
   ]
  },
  {
   "cell_type": "code",
   "execution_count": 5,
   "metadata": {
    "colab": {
     "base_uri": "https://localhost:8080/",
     "height": 112
    },
    "id": "4FBbPhrROLqk",
    "outputId": "81dd311f-ec54-4d2a-c761-5404e67c207a"
   },
   "outputs": [
    {
     "data": {
      "text/html": [
       "<div>\n",
       "<style scoped>\n",
       "    .dataframe tbody tr th:only-of-type {\n",
       "        vertical-align: middle;\n",
       "    }\n",
       "\n",
       "    .dataframe tbody tr th {\n",
       "        vertical-align: top;\n",
       "    }\n",
       "\n",
       "    .dataframe thead th {\n",
       "        text-align: right;\n",
       "    }\n",
       "</style>\n",
       "<table border=\"1\" class=\"dataframe\">\n",
       "  <thead>\n",
       "    <tr style=\"text-align: right;\">\n",
       "      <th></th>\n",
       "      <th>Tweet</th>\n",
       "      <th>Target</th>\n",
       "      <th>Stance</th>\n",
       "      <th>Opinion Towards</th>\n",
       "      <th>Sentiment</th>\n",
       "    </tr>\n",
       "  </thead>\n",
       "  <tbody>\n",
       "    <tr>\n",
       "      <th>0</th>\n",
       "      <td>@tedcruz And, #HandOverTheServer she wiped cle...</td>\n",
       "      <td>Hillary Clinton</td>\n",
       "      <td>AGAINST</td>\n",
       "      <td>1.  The tweet explicitly expresses opinion abo...</td>\n",
       "      <td>neg</td>\n",
       "    </tr>\n",
       "    <tr>\n",
       "      <th>1</th>\n",
       "      <td>Hillary is our best choice if we truly want to...</td>\n",
       "      <td>Hillary Clinton</td>\n",
       "      <td>FAVOR</td>\n",
       "      <td>1.  The tweet explicitly expresses opinion abo...</td>\n",
       "      <td>pos</td>\n",
       "    </tr>\n",
       "  </tbody>\n",
       "</table>\n",
       "</div>"
      ],
      "text/plain": [
       "                                               Tweet           Target  \\\n",
       "0  @tedcruz And, #HandOverTheServer she wiped cle...  Hillary Clinton   \n",
       "1  Hillary is our best choice if we truly want to...  Hillary Clinton   \n",
       "\n",
       "    Stance                                    Opinion Towards Sentiment  \n",
       "0  AGAINST  1.  The tweet explicitly expresses opinion abo...       neg  \n",
       "1    FAVOR  1.  The tweet explicitly expresses opinion abo...       pos  "
      ]
     },
     "execution_count": 5,
     "metadata": {},
     "output_type": "execute_result"
    }
   ],
   "source": [
    "# Impresión de las primeras 2 filas para conocer su estructura\n",
    "df.head(2)"
   ]
  },
  {
   "cell_type": "markdown",
   "metadata": {
    "id": "bIk1ylt5QKoz"
   },
   "source": [
    "La columna \"Target\" se refiere al tópico del tweet.\n",
    "Para conocer cuales son estos podemos obtener sus valores únicos."
   ]
  },
  {
   "cell_type": "code",
   "execution_count": 6,
   "metadata": {
    "colab": {
     "base_uri": "https://localhost:8080/"
    },
    "id": "50C2s_jcP0cz",
    "outputId": "5136c99a-e69c-46cc-e0e6-b2e8d07c7eb2"
   },
   "outputs": [
    {
     "data": {
      "text/plain": [
       "array(['Hillary Clinton', 'Legalization of Abortion', 'Atheism',\n",
       "       'Climate Change is a Real Concern', 'Feminist Movement',\n",
       "       'Donald Trump'], dtype=object)"
      ]
     },
     "execution_count": 6,
     "metadata": {},
     "output_type": "execute_result"
    }
   ],
   "source": [
    "df[\"Target\"].unique()"
   ]
  },
  {
   "cell_type": "markdown",
   "metadata": {
    "id": "wNpOI3MlRAIb"
   },
   "source": [
    "De forma similar para la columna \"Stance\", que se refiere a la postura que la\n",
    " persona toma con respecto a cierto tópico u argumento."
   ]
  },
  {
   "cell_type": "code",
   "execution_count": 7,
   "metadata": {
    "colab": {
     "base_uri": "https://localhost:8080/"
    },
    "id": "e_I1oci0QvpG",
    "outputId": "299aa608-1ffc-4289-e50f-e24088884145"
   },
   "outputs": [
    {
     "data": {
      "text/plain": [
       "array(['AGAINST', 'FAVOR', 'NONE'], dtype=object)"
      ]
     },
     "execution_count": 7,
     "metadata": {},
     "output_type": "execute_result"
    }
   ],
   "source": [
    "df[\"Stance\"].unique()"
   ]
  },
  {
   "cell_type": "markdown",
   "metadata": {
    "id": "_phB_2e0PSz0"
   },
   "source": [
    "Las columnas que interesan para el entrenamiento son \"Tweet\" y \"Stance\", pues a a partir de cierto tweet, queremos predecir la postura que viene implicita en el mismo. No consideramos la columna \"Target\" debido a que ninguno de los tópicos del dataset está relacionado con el asunto del Asalto al Capitolio de Estados Unidos 2021.  \n",
    "Para ello se crea un nuevo dataframe con sólo estas dos columnas."
   ]
  },
  {
   "cell_type": "code",
   "execution_count": 8,
   "metadata": {
    "id": "GYAMUNVEXUY5"
   },
   "outputs": [],
   "source": [
    "# Creación de un nuevo dataframe con sólo dos columnas\n",
    "df1 = df[['Stance', 'Tweet']].copy()"
   ]
  },
  {
   "cell_type": "markdown",
   "metadata": {
    "id": "oASK4WdJNP0x"
   },
   "source": [
    "Los tipos de posturas son AGAINST, FAVOR, NONE. Los autores del dataset colocan\n",
    "a la postura NONE para aquellos tweets que no tienen que ver con los tópicos que ellos eligieron (Hilary Clinton, Legalization of Abortion, etc), así que para este caso de estudio es mejor omitir todos los tweets clasificados con esta postura.  \n",
    "Primero contamos cuantos tweets hay por cada postura."
   ]
  },
  {
   "cell_type": "code",
   "execution_count": 9,
   "metadata": {
    "colab": {
     "base_uri": "https://localhost:8080/"
    },
    "id": "JqdYXnamj1og",
    "outputId": "f9042a21-cee1-4a19-e0d1-1de0692688d9"
   },
   "outputs": [
    {
     "data": {
      "text/plain": [
       "Stance\n",
       "AGAINST    2409\n",
       "FAVOR      1205\n",
       "NONE       1256\n",
       "Name: Tweet, dtype: int64"
      ]
     },
     "execution_count": 9,
     "metadata": {},
     "output_type": "execute_result"
    }
   ],
   "source": [
    "df1.groupby('Stance').Tweet.count()"
   ]
  },
  {
   "cell_type": "markdown",
   "metadata": {
    "id": "SaJV5291Nnma"
   },
   "source": [
    "Se tienen 1256 tweets clasificados como NONE. Se eliminarán todos estos para quedar con sólo tweets de AGAINST y FAVOR.  \n",
    "Para ello los ordenamos por postura y nos quedamos con los primeros 3614 registros, debido a que es lo que se obtiene de restarle el número de tweets NONE al total de tweets. (4870 - 1256)"
   ]
  },
  {
   "cell_type": "code",
   "execution_count": 10,
   "metadata": {
    "colab": {
     "base_uri": "https://localhost:8080/",
     "height": 424
    },
    "id": "lxsPleLhLTK4",
    "outputId": "cc97865c-2607-4d0b-c0d4-1985a18c7dea"
   },
   "outputs": [
    {
     "data": {
      "text/html": [
       "<div>\n",
       "<style scoped>\n",
       "    .dataframe tbody tr th:only-of-type {\n",
       "        vertical-align: middle;\n",
       "    }\n",
       "\n",
       "    .dataframe tbody tr th {\n",
       "        vertical-align: top;\n",
       "    }\n",
       "\n",
       "    .dataframe thead th {\n",
       "        text-align: right;\n",
       "    }\n",
       "</style>\n",
       "<table border=\"1\" class=\"dataframe\">\n",
       "  <thead>\n",
       "    <tr style=\"text-align: right;\">\n",
       "      <th></th>\n",
       "      <th>Stance</th>\n",
       "      <th>Tweet</th>\n",
       "    </tr>\n",
       "  </thead>\n",
       "  <tbody>\n",
       "    <tr>\n",
       "      <th>0</th>\n",
       "      <td>AGAINST</td>\n",
       "      <td>@tedcruz And, #HandOverTheServer she wiped cle...</td>\n",
       "    </tr>\n",
       "    <tr>\n",
       "      <th>2727</th>\n",
       "      <td>AGAINST</td>\n",
       "      <td>RT @AdvocatesOfLife: RT @ProLifeYouth Adopting...</td>\n",
       "    </tr>\n",
       "    <tr>\n",
       "      <th>2728</th>\n",
       "      <td>AGAINST</td>\n",
       "      <td>On my bday I'm always so grateful to my bio pa...</td>\n",
       "    </tr>\n",
       "    <tr>\n",
       "      <th>2729</th>\n",
       "      <td>AGAINST</td>\n",
       "      <td>That's like being into cannibalism but against...</td>\n",
       "    </tr>\n",
       "    <tr>\n",
       "      <th>2731</th>\n",
       "      <td>AGAINST</td>\n",
       "      <td>It should never ever be legal to have an abort...</td>\n",
       "    </tr>\n",
       "    <tr>\n",
       "      <th>...</th>\n",
       "      <td>...</td>\n",
       "      <td>...</td>\n",
       "    </tr>\n",
       "    <tr>\n",
       "      <th>1226</th>\n",
       "      <td>FAVOR</td>\n",
       "      <td>Excited to hear author @LeoraTanenbaum  Slut-S...</td>\n",
       "    </tr>\n",
       "    <tr>\n",
       "      <th>1006</th>\n",
       "      <td>FAVOR</td>\n",
       "      <td>If we do not act, we will be the generation wh...</td>\n",
       "    </tr>\n",
       "    <tr>\n",
       "      <th>1630</th>\n",
       "      <td>FAVOR</td>\n",
       "      <td>@realDonaldTrump Favorites and retweets keep p...</td>\n",
       "    </tr>\n",
       "    <tr>\n",
       "      <th>1003</th>\n",
       "      <td>FAVOR</td>\n",
       "      <td>If sea levels get any higher flooding in lowla...</td>\n",
       "    </tr>\n",
       "    <tr>\n",
       "      <th>1199</th>\n",
       "      <td>FAVOR</td>\n",
       "      <td>@Mike_Charmander @MsLatina a right doesn't hav...</td>\n",
       "    </tr>\n",
       "  </tbody>\n",
       "</table>\n",
       "<p>3614 rows × 2 columns</p>\n",
       "</div>"
      ],
      "text/plain": [
       "       Stance                                              Tweet\n",
       "0     AGAINST  @tedcruz And, #HandOverTheServer she wiped cle...\n",
       "2727  AGAINST  RT @AdvocatesOfLife: RT @ProLifeYouth Adopting...\n",
       "2728  AGAINST  On my bday I'm always so grateful to my bio pa...\n",
       "2729  AGAINST  That's like being into cannibalism but against...\n",
       "2731  AGAINST  It should never ever be legal to have an abort...\n",
       "...       ...                                                ...\n",
       "1226    FAVOR  Excited to hear author @LeoraTanenbaum  Slut-S...\n",
       "1006    FAVOR  If we do not act, we will be the generation wh...\n",
       "1630    FAVOR  @realDonaldTrump Favorites and retweets keep p...\n",
       "1003    FAVOR  If sea levels get any higher flooding in lowla...\n",
       "1199    FAVOR  @Mike_Charmander @MsLatina a right doesn't hav...\n",
       "\n",
       "[3614 rows x 2 columns]"
      ]
     },
     "execution_count": 10,
     "metadata": {},
     "output_type": "execute_result"
    }
   ],
   "source": [
    "df1 = df1.sort_values(by=['Stance']).head(3614)\n",
    "df1"
   ]
  },
  {
   "cell_type": "markdown",
   "metadata": {
    "id": "p3yQZ1qIZ9X9"
   },
   "source": [
    "Los diferentes valores de la columna \"Stance\" se tratarán como clases. Se trata entonces de un problema de dos clases. Se necesita representar a cada clase (postura) como números para que el modelo predictivo pueda entenderlas."
   ]
  },
  {
   "cell_type": "code",
   "execution_count": 11,
   "metadata": {
    "colab": {
     "base_uri": "https://localhost:8080/"
    },
    "id": "Fi8HAU2rRz7l",
    "outputId": "6d9110d8-9b5e-4807-d7e8-74871b32f5cb"
   },
   "outputs": [
    {
     "name": "stdout",
     "output_type": "stream",
     "text": [
      "Impresión de los diccionarios creados\n",
      "stance_to_id: {'AGAINST': 0, 'FAVOR': 1}\n",
      "id_to_stance: {0: 'AGAINST', 1: 'FAVOR'}\n"
     ]
    }
   ],
   "source": [
    "# Creando una nueva columna llamada 'stance_id' con las posturas codificadas\n",
    "df1['stance_id'] = df1['Stance'].factorize()[0]\n",
    "stance_id_df = df1[['Stance', 'stance_id']].drop_duplicates()\n",
    "\n",
    "# Diccionarios para mapear entre el identificador de la postura y la postura\n",
    "stance_to_id = dict(stance_id_df.values)\n",
    "id_to_stance = dict(stance_id_df[['stance_id', 'Stance']].values)\n",
    "\n",
    "print(\"Impresión de los diccionarios creados\")\n",
    "print(\"stance_to_id:\",stance_to_id)\n",
    "print(\"id_to_stance:\",id_to_stance)"
   ]
  },
  {
   "cell_type": "code",
   "execution_count": 12,
   "metadata": {
    "colab": {
     "base_uri": "https://localhost:8080/",
     "height": 175
    },
    "id": "z8iHu0Cd2CfZ",
    "outputId": "29e83068-d90e-4859-cf06-d69331e8f162"
   },
   "outputs": [
    {
     "data": {
      "text/html": [
       "<div>\n",
       "<style scoped>\n",
       "    .dataframe tbody tr th:only-of-type {\n",
       "        vertical-align: middle;\n",
       "    }\n",
       "\n",
       "    .dataframe tbody tr th {\n",
       "        vertical-align: top;\n",
       "    }\n",
       "\n",
       "    .dataframe thead th {\n",
       "        text-align: right;\n",
       "    }\n",
       "</style>\n",
       "<table border=\"1\" class=\"dataframe\">\n",
       "  <thead>\n",
       "    <tr style=\"text-align: right;\">\n",
       "      <th></th>\n",
       "      <th>Stance</th>\n",
       "      <th>Tweet</th>\n",
       "      <th>stance_id</th>\n",
       "    </tr>\n",
       "  </thead>\n",
       "  <tbody>\n",
       "    <tr>\n",
       "      <th>1602</th>\n",
       "      <td>AGAINST</td>\n",
       "      <td>If Feminism is not hypocritical fake \"equality...</td>\n",
       "      <td>0</td>\n",
       "    </tr>\n",
       "    <tr>\n",
       "      <th>915</th>\n",
       "      <td>AGAINST</td>\n",
       "      <td>@HillaryClinton lies just for the fun of it, i...</td>\n",
       "      <td>0</td>\n",
       "    </tr>\n",
       "    <tr>\n",
       "      <th>123</th>\n",
       "      <td>AGAINST</td>\n",
       "      <td>The devil is our enemy, and our mind is the ba...</td>\n",
       "      <td>0</td>\n",
       "    </tr>\n",
       "    <tr>\n",
       "      <th>715</th>\n",
       "      <td>AGAINST</td>\n",
       "      <td>@dougshelton749 @realDonaldTrump  #HRC would b...</td>\n",
       "      <td>0</td>\n",
       "    </tr>\n",
       "  </tbody>\n",
       "</table>\n",
       "</div>"
      ],
      "text/plain": [
       "       Stance                                              Tweet  stance_id\n",
       "1602  AGAINST  If Feminism is not hypocritical fake \"equality...          0\n",
       "915   AGAINST  @HillaryClinton lies just for the fun of it, i...          0\n",
       "123   AGAINST  The devil is our enemy, and our mind is the ba...          0\n",
       "715   AGAINST  @dougshelton749 @realDonaldTrump  #HRC would b...          0"
      ]
     },
     "execution_count": 12,
     "metadata": {},
     "output_type": "execute_result"
    }
   ],
   "source": [
    "# Impresión de un subconjunto aleatorio del nuevo dataframe\n",
    "df1.sample(n=4)"
   ]
  },
  {
   "cell_type": "markdown",
   "metadata": {
    "id": "RtakyO4r2bQH"
   },
   "source": [
    "A continuación se muestra un gráfico con el número de de tweets por postura."
   ]
  },
  {
   "cell_type": "code",
   "execution_count": 13,
   "metadata": {
    "colab": {
     "base_uri": "https://localhost:8080/",
     "height": 407
    },
    "id": "GxXV5t-G2aVX",
    "outputId": "5ebab6a3-33be-4d72-a217-663012522b78"
   },
   "outputs": [
    {
     "data": {
      "image/png": "[encoded data removed]",
      "text/plain": [
       "<Figure size 648x432 with 1 Axes>"
      ]
     },
     "metadata": {},
     "output_type": "display_data"
    }
   ],
   "source": [
    "fig = plt.figure(figsize=(9,6),facecolor='white')\n",
    "df1.groupby('Stance').Tweet.count().sort_values().plot.barh(\n",
    "  ylim=0, title= 'Número de posturas por cada tweet')\n",
    "plt.xlabel('Número de ocurrencias', fontsize = 12);"
   ]
  },
  {
   "cell_type": "markdown",
   "metadata": {
    "id": "tiK2jFmc6dSa"
   },
   "source": [
    "## Preprocesamiento del texto\n",
    "Para este paso se transformarán los tweets a vectores de  $R^n$ para que el modelo pueda realizar predicciones. Para ello se utilizará TF-IDF."
   ]
  },
  {
   "cell_type": "code",
   "execution_count": 14,
   "metadata": {
    "colab": {
     "base_uri": "https://localhost:8080/"
    },
    "id": "sC-qXKG88OfH",
    "outputId": "38ba60b3-b6a1-464e-b830-ae1069c54468"
   },
   "outputs": [
    {
     "data": {
      "text/plain": [
       "(3614, 1413)"
      ]
     },
     "execution_count": 14,
     "metadata": {},
     "output_type": "execute_result"
    }
   ],
   "source": [
    "# Se utiliza un escalamiento logaritmico\n",
    "# Se remueven palabras que ocurren en menos de 5 documentos\n",
    "# Se utilizan unigramas y bigramas\n",
    "# Se remueven stop words en inglés\n",
    "tfidf = TfidfVectorizer(sublinear_tf=True, min_df=5,\n",
    "                        ngram_range=(1, 2), \n",
    "                        stop_words='english')\n",
    "\n",
    "# Se transforma cada tweet en un vector de TFIDF\n",
    "features = tfidf.fit_transform(df1.Tweet).toarray()\n",
    "\n",
    "\n",
    "# Se utilizan como etiquetas el identificador de la postura\n",
    "labels = df1.stance_id\n",
    "\n",
    "features.shape"
   ]
  },
  {
   "cell_type": "markdown",
   "metadata": {
    "id": "tti4ipJHHYJN"
   },
   "source": [
    "## Modelos de clasificación\n",
    "En esta sección se entrenan tres modelos, y mediante validación cruzada de 5 iteraciones se obtendrá la exactitud de cada modelo. Aquel que tenga la mejor exactitud será el elegido como modelo para nuestro caso de estudio.  \n",
    "Los modelos que se propone usar son:\n",
    "- Categorical Naive Bayes\n",
    "- Multinomial Naive Bayes\n",
    "- Logistic Regression\n",
    "- Random Forest\n",
    "- Linear Support Vector Machine\n",
    "- Non Linear Support Vector Machine\n"
   ]
  },
  {
   "cell_type": "code",
   "execution_count": 15,
   "metadata": {
    "id": "1mcFk-WCIRVp"
   },
   "outputs": [],
   "source": [
    "# Los modelos son almacenados en una lista\n",
    "models = [\n",
    "  RandomForestClassifier(n_estimators=100, max_depth=5, random_state=0),\n",
    "  MultinomialNB(),\n",
    "  CategoricalNB(),\n",
    "  LogisticRegression(random_state=0),\n",
    "  LinearSVC(),\n",
    "  SVC()\n",
    "]\n",
    "\n",
    "# Cross-validation de 5 iteraciones\n",
    "CV = 5\n",
    "cv_df = pd.DataFrame(index=range(CV * len(models)))\n",
    "\n",
    "entries = []\n",
    "# Se itera sobre la lista de modelos y en la lista entries se almacena\n",
    "# el nombre del modelo y valores obtenidos de la validación cruzada.\n",
    "# De la validación cruzada se almacena el identificador de la iteración y\n",
    "# la exactitud obtenida en cada iteración.\n",
    "for model in models:\n",
    "  model_name = model.__class__.__name__\n",
    "  accuracies = cross_val_score(model,features,labels,scoring='accuracy',cv=CV)\n",
    "  for fold_idx, accuracy in enumerate(accuracies):\n",
    "    entries.append((model_name, fold_idx, accuracy))\n",
    "\n",
    "# Creamos un nuevo dataframe a partir de la lista entries\n",
    "cv_df = pd.DataFrame(entries, columns=['model_name', 'fold_idx', 'accuracy'])"
   ]
  },
  {
   "cell_type": "markdown",
   "metadata": {
    "id": "paLYmsLRIFAR"
   },
   "source": [
    "En este momento se tiene el dataframe cv_df que contiene la lista de exactitudes obtenidas de la validación cruzada de cada modelo. Se tienen 5 valores distintos de exactitud por cada iteración."
   ]
  },
  {
   "cell_type": "code",
   "execution_count": 16,
   "metadata": {
    "colab": {
     "base_uri": "https://localhost:8080/",
     "height": 990
    },
    "id": "XU-U5ZcjH_06",
    "outputId": "4ca23e31-ecac-4959-f02d-33f82caa9eda"
   },
   "outputs": [
    {
     "data": {
      "text/html": [
       "<div>\n",
       "<style scoped>\n",
       "    .dataframe tbody tr th:only-of-type {\n",
       "        vertical-align: middle;\n",
       "    }\n",
       "\n",
       "    .dataframe tbody tr th {\n",
       "        vertical-align: top;\n",
       "    }\n",
       "\n",
       "    .dataframe thead th {\n",
       "        text-align: right;\n",
       "    }\n",
       "</style>\n",
       "<table border=\"1\" class=\"dataframe\">\n",
       "  <thead>\n",
       "    <tr style=\"text-align: right;\">\n",
       "      <th></th>\n",
       "      <th>model_name</th>\n",
       "      <th>fold_idx</th>\n",
       "      <th>accuracy</th>\n",
       "    </tr>\n",
       "  </thead>\n",
       "  <tbody>\n",
       "    <tr>\n",
       "      <th>0</th>\n",
       "      <td>RandomForestClassifier</td>\n",
       "      <td>0</td>\n",
       "      <td>0.680498</td>\n",
       "    </tr>\n",
       "    <tr>\n",
       "      <th>1</th>\n",
       "      <td>RandomForestClassifier</td>\n",
       "      <td>1</td>\n",
       "      <td>0.674965</td>\n",
       "    </tr>\n",
       "    <tr>\n",
       "      <th>2</th>\n",
       "      <td>RandomForestClassifier</td>\n",
       "      <td>2</td>\n",
       "      <td>0.670816</td>\n",
       "    </tr>\n",
       "    <tr>\n",
       "      <th>3</th>\n",
       "      <td>RandomForestClassifier</td>\n",
       "      <td>3</td>\n",
       "      <td>0.666667</td>\n",
       "    </tr>\n",
       "    <tr>\n",
       "      <th>4</th>\n",
       "      <td>RandomForestClassifier</td>\n",
       "      <td>4</td>\n",
       "      <td>0.668975</td>\n",
       "    </tr>\n",
       "    <tr>\n",
       "      <th>5</th>\n",
       "      <td>MultinomialNB</td>\n",
       "      <td>0</td>\n",
       "      <td>0.749654</td>\n",
       "    </tr>\n",
       "    <tr>\n",
       "      <th>6</th>\n",
       "      <td>MultinomialNB</td>\n",
       "      <td>1</td>\n",
       "      <td>0.726141</td>\n",
       "    </tr>\n",
       "    <tr>\n",
       "      <th>7</th>\n",
       "      <td>MultinomialNB</td>\n",
       "      <td>2</td>\n",
       "      <td>0.679115</td>\n",
       "    </tr>\n",
       "    <tr>\n",
       "      <th>8</th>\n",
       "      <td>MultinomialNB</td>\n",
       "      <td>3</td>\n",
       "      <td>0.656985</td>\n",
       "    </tr>\n",
       "    <tr>\n",
       "      <th>9</th>\n",
       "      <td>MultinomialNB</td>\n",
       "      <td>4</td>\n",
       "      <td>0.704986</td>\n",
       "    </tr>\n",
       "    <tr>\n",
       "      <th>10</th>\n",
       "      <td>CategoricalNB</td>\n",
       "      <td>0</td>\n",
       "      <td>0.666667</td>\n",
       "    </tr>\n",
       "    <tr>\n",
       "      <th>11</th>\n",
       "      <td>CategoricalNB</td>\n",
       "      <td>1</td>\n",
       "      <td>0.666667</td>\n",
       "    </tr>\n",
       "    <tr>\n",
       "      <th>12</th>\n",
       "      <td>CategoricalNB</td>\n",
       "      <td>2</td>\n",
       "      <td>0.666667</td>\n",
       "    </tr>\n",
       "    <tr>\n",
       "      <th>13</th>\n",
       "      <td>CategoricalNB</td>\n",
       "      <td>3</td>\n",
       "      <td>0.666667</td>\n",
       "    </tr>\n",
       "    <tr>\n",
       "      <th>14</th>\n",
       "      <td>CategoricalNB</td>\n",
       "      <td>4</td>\n",
       "      <td>0.666205</td>\n",
       "    </tr>\n",
       "    <tr>\n",
       "      <th>15</th>\n",
       "      <td>LogisticRegression</td>\n",
       "      <td>0</td>\n",
       "      <td>0.728907</td>\n",
       "    </tr>\n",
       "    <tr>\n",
       "      <th>16</th>\n",
       "      <td>LogisticRegression</td>\n",
       "      <td>1</td>\n",
       "      <td>0.710927</td>\n",
       "    </tr>\n",
       "    <tr>\n",
       "      <th>17</th>\n",
       "      <td>LogisticRegression</td>\n",
       "      <td>2</td>\n",
       "      <td>0.670816</td>\n",
       "    </tr>\n",
       "    <tr>\n",
       "      <th>18</th>\n",
       "      <td>LogisticRegression</td>\n",
       "      <td>3</td>\n",
       "      <td>0.650069</td>\n",
       "    </tr>\n",
       "    <tr>\n",
       "      <th>19</th>\n",
       "      <td>LogisticRegression</td>\n",
       "      <td>4</td>\n",
       "      <td>0.700831</td>\n",
       "    </tr>\n",
       "    <tr>\n",
       "      <th>20</th>\n",
       "      <td>LinearSVC</td>\n",
       "      <td>0</td>\n",
       "      <td>0.726141</td>\n",
       "    </tr>\n",
       "    <tr>\n",
       "      <th>21</th>\n",
       "      <td>LinearSVC</td>\n",
       "      <td>1</td>\n",
       "      <td>0.680498</td>\n",
       "    </tr>\n",
       "    <tr>\n",
       "      <th>22</th>\n",
       "      <td>LinearSVC</td>\n",
       "      <td>2</td>\n",
       "      <td>0.647303</td>\n",
       "    </tr>\n",
       "    <tr>\n",
       "      <th>23</th>\n",
       "      <td>LinearSVC</td>\n",
       "      <td>3</td>\n",
       "      <td>0.632089</td>\n",
       "    </tr>\n",
       "    <tr>\n",
       "      <th>24</th>\n",
       "      <td>LinearSVC</td>\n",
       "      <td>4</td>\n",
       "      <td>0.681440</td>\n",
       "    </tr>\n",
       "    <tr>\n",
       "      <th>25</th>\n",
       "      <td>SVC</td>\n",
       "      <td>0</td>\n",
       "      <td>0.713693</td>\n",
       "    </tr>\n",
       "    <tr>\n",
       "      <th>26</th>\n",
       "      <td>SVC</td>\n",
       "      <td>1</td>\n",
       "      <td>0.710927</td>\n",
       "    </tr>\n",
       "    <tr>\n",
       "      <th>27</th>\n",
       "      <td>SVC</td>\n",
       "      <td>2</td>\n",
       "      <td>0.668050</td>\n",
       "    </tr>\n",
       "    <tr>\n",
       "      <th>28</th>\n",
       "      <td>SVC</td>\n",
       "      <td>3</td>\n",
       "      <td>0.652835</td>\n",
       "    </tr>\n",
       "    <tr>\n",
       "      <th>29</th>\n",
       "      <td>SVC</td>\n",
       "      <td>4</td>\n",
       "      <td>0.696676</td>\n",
       "    </tr>\n",
       "  </tbody>\n",
       "</table>\n",
       "</div>"
      ],
      "text/plain": [
       "                model_name  fold_idx  accuracy\n",
       "0   RandomForestClassifier         0  0.680498\n",
       "1   RandomForestClassifier         1  0.674965\n",
       "2   RandomForestClassifier         2  0.670816\n",
       "3   RandomForestClassifier         3  0.666667\n",
       "4   RandomForestClassifier         4  0.668975\n",
       "5            MultinomialNB         0  0.749654\n",
       "6            MultinomialNB         1  0.726141\n",
       "7            MultinomialNB         2  0.679115\n",
       "8            MultinomialNB         3  0.656985\n",
       "9            MultinomialNB         4  0.704986\n",
       "10           CategoricalNB         0  0.666667\n",
       "11           CategoricalNB         1  0.666667\n",
       "12           CategoricalNB         2  0.666667\n",
       "13           CategoricalNB         3  0.666667\n",
       "14           CategoricalNB         4  0.666205\n",
       "15      LogisticRegression         0  0.728907\n",
       "16      LogisticRegression         1  0.710927\n",
       "17      LogisticRegression         2  0.670816\n",
       "18      LogisticRegression         3  0.650069\n",
       "19      LogisticRegression         4  0.700831\n",
       "20               LinearSVC         0  0.726141\n",
       "21               LinearSVC         1  0.680498\n",
       "22               LinearSVC         2  0.647303\n",
       "23               LinearSVC         3  0.632089\n",
       "24               LinearSVC         4  0.681440\n",
       "25                     SVC         0  0.713693\n",
       "26                     SVC         1  0.710927\n",
       "27                     SVC         2  0.668050\n",
       "28                     SVC         3  0.652835\n",
       "29                     SVC         4  0.696676"
      ]
     },
     "execution_count": 16,
     "metadata": {},
     "output_type": "execute_result"
    }
   ],
   "source": [
    "cv_df"
   ]
  },
  {
   "cell_type": "markdown",
   "metadata": {
    "id": "UViphZubJGE7"
   },
   "source": [
    "Para decidir que modelo utilizar, se obtiene el promedio y desviación estándar de las exactitudes de cada modelo."
   ]
  },
  {
   "cell_type": "code",
   "execution_count": 17,
   "metadata": {
    "colab": {
     "base_uri": "https://localhost:8080/",
     "height": 269
    },
    "id": "d5xrkEYOLMfv",
    "outputId": "ab76dffa-da79-4e49-f2c1-cd20a1049a20"
   },
   "outputs": [
    {
     "data": {
      "text/html": [
       "<div>\n",
       "<style scoped>\n",
       "    .dataframe tbody tr th:only-of-type {\n",
       "        vertical-align: middle;\n",
       "    }\n",
       "\n",
       "    .dataframe tbody tr th {\n",
       "        vertical-align: top;\n",
       "    }\n",
       "\n",
       "    .dataframe thead th {\n",
       "        text-align: right;\n",
       "    }\n",
       "</style>\n",
       "<table border=\"1\" class=\"dataframe\">\n",
       "  <thead>\n",
       "    <tr style=\"text-align: right;\">\n",
       "      <th></th>\n",
       "      <th>Mean_Accuracy</th>\n",
       "      <th>Standard_deviation</th>\n",
       "    </tr>\n",
       "    <tr>\n",
       "      <th>model_name</th>\n",
       "      <th></th>\n",
       "      <th></th>\n",
       "    </tr>\n",
       "  </thead>\n",
       "  <tbody>\n",
       "    <tr>\n",
       "      <th>CategoricalNB</th>\n",
       "      <td>0.666574</td>\n",
       "      <td>0.000206</td>\n",
       "    </tr>\n",
       "    <tr>\n",
       "      <th>LinearSVC</th>\n",
       "      <td>0.673494</td>\n",
       "      <td>0.036347</td>\n",
       "    </tr>\n",
       "    <tr>\n",
       "      <th>LogisticRegression</th>\n",
       "      <td>0.692310</td>\n",
       "      <td>0.031642</td>\n",
       "    </tr>\n",
       "    <tr>\n",
       "      <th>MultinomialNB</th>\n",
       "      <td>0.703376</td>\n",
       "      <td>0.036753</td>\n",
       "    </tr>\n",
       "    <tr>\n",
       "      <th>RandomForestClassifier</th>\n",
       "      <td>0.672384</td>\n",
       "      <td>0.005460</td>\n",
       "    </tr>\n",
       "    <tr>\n",
       "      <th>SVC</th>\n",
       "      <td>0.688436</td>\n",
       "      <td>0.026901</td>\n",
       "    </tr>\n",
       "  </tbody>\n",
       "</table>\n",
       "</div>"
      ],
      "text/plain": [
       "                        Mean_Accuracy  Standard_deviation\n",
       "model_name                                               \n",
       "CategoricalNB                0.666574            0.000206\n",
       "LinearSVC                    0.673494            0.036347\n",
       "LogisticRegression           0.692310            0.031642\n",
       "MultinomialNB                0.703376            0.036753\n",
       "RandomForestClassifier       0.672384            0.005460\n",
       "SVC                          0.688436            0.026901"
      ]
     },
     "execution_count": 17,
     "metadata": {},
     "output_type": "execute_result"
    }
   ],
   "source": [
    "mean_accuracy = cv_df.groupby('model_name').accuracy.mean()\n",
    "std_accuracy = cv_df.groupby('model_name').accuracy.std()\n",
    "\n",
    "# Se crea un nuevo dataframe con el promedio y desviación estándar de la\n",
    "# exactitud de cada modelo.\n",
    "acc = pd.concat([mean_accuracy, std_accuracy], axis= 1, \n",
    "          ignore_index=True)\n",
    "acc.columns = ['Mean_Accuracy', 'Standard_deviation']\n",
    "acc"
   ]
  },
  {
   "cell_type": "code",
   "execution_count": 18,
   "metadata": {
    "colab": {
     "base_uri": "https://localhost:8080/",
     "height": 422
    },
    "id": "vrLOMbWKKkWv",
    "outputId": "8bf24d5b-7151-47a5-ac05-65ad05db6e7d"
   },
   "outputs": [
    {
     "data": {
      "image/png": "[encoded data removed]",
      "text/plain": [
       "<Figure size 720x432 with 1 Axes>"
      ]
     },
     "metadata": {},
     "output_type": "display_data"
    }
   ],
   "source": [
    "plt.figure(figsize=(10,6),facecolor='white')\n",
    "sns.boxplot(x='model_name', y='accuracy', data=cv_df)\n",
    "plt.title(\"EXACTITUD PROMEDIO (cv = 5)\\n\", size=14);"
   ]
  },
  {
   "cell_type": "markdown",
   "metadata": {
    "id": "HojJKwiZMR3a"
   },
   "source": [
    "Con el diagrama de cajas y vigotes se puede notar que el modelo con mejor exactitud promedio es Multinomial Naive Bayes.\n",
    "Otro aspecto a destacar es que todos los modelos poseen un rendimiento similar, de entre 0.65 y 0.7, así que el elegir entre uno u otro no varía demasiado.\n",
    "Para efectos de este trabajo, nos quedaremos con **Multinomial Naive Bayes**."
   ]
  },
  {
   "cell_type": "markdown",
   "metadata": {
    "id": "jz9gEWQGcFFS"
   },
   "source": [
    "## Evaluación del modelo elegido\n"
   ]
  },
  {
   "cell_type": "code",
   "execution_count": 19,
   "metadata": {
    "id": "fyCZB-cFcUHl"
   },
   "outputs": [],
   "source": [
    "# Se divide los datos en datos de prueba y de entrenamiento\n",
    "X_train, X_test, y_train, y_test, indices_train, indices_test = train_test_split(features, \n",
    "                                                                labels, \n",
    "                                                                df1.index, test_size=0.25, \n",
    "                                                                random_state=1)\n",
    "# Se genera un modelo con los datos de entrenamiento obtenidos\n",
    "model = MultinomialNB()\n",
    "model.fit(X_train, y_train)\n",
    "# Se evalúa con los datos de prueba\n",
    "y_pred = model.predict(X_test)"
   ]
  },
  {
   "cell_type": "markdown",
   "metadata": {
    "id": "htxVnnTHePAq"
   },
   "source": [
    "### Precisión, exhaustividad y valor F"
   ]
  },
  {
   "cell_type": "code",
   "execution_count": 20,
   "metadata": {
    "colab": {
     "base_uri": "https://localhost:8080/"
    },
    "id": "QNGgGMRKer3c",
    "outputId": "f476bc50-8234-46aa-bf82-0a0e7a3d2a2e"
   },
   "outputs": [
    {
     "name": "stdout",
     "output_type": "stream",
     "text": [
      "\t\t\tMÉTRICAS DE CLASIFICACIÓN\n",
      "\n",
      "              precision    recall  f1-score   support\n",
      "\n",
      "     AGAINST       0.75      0.93      0.83       609\n",
      "       FAVOR       0.73      0.37      0.49       295\n",
      "\n",
      "    accuracy                           0.75       904\n",
      "   macro avg       0.74      0.65      0.66       904\n",
      "weighted avg       0.74      0.75      0.72       904\n",
      "\n"
     ]
    }
   ],
   "source": [
    "print('\\t\\t\\tMÉTRICAS DE CLASIFICACIÓN\\n')\n",
    "print(metrics.classification_report(y_test, y_pred, \n",
    "                                    target_names= df1.Stance.unique()))"
   ]
  },
  {
   "cell_type": "markdown",
   "metadata": {
    "id": "jpKchKJwg7NN"
   },
   "source": [
    "### Matríz de confusión\n",
    "La matriz de confusión es una tabla que representa los valores reales y los valores predecidos. Un buen modelo es aquel que tiene colores oscuros en la diagonal."
   ]
  },
  {
   "cell_type": "code",
   "execution_count": 21,
   "metadata": {
    "colab": {
     "base_uri": "https://localhost:8080/",
     "height": 532
    },
    "id": "WG798igrhEJK",
    "outputId": "d9b7412c-bd4f-4df9-e05d-38dfa55b09c0"
   },
   "outputs": [
    {
     "data": {
      "image/png": "[encoded data removed]",
      "text/plain": [
       "<Figure size 576x576 with 2 Axes>"
      ]
     },
     "metadata": {},
     "output_type": "display_data"
    }
   ],
   "source": [
    "conf_mat = confusion_matrix(y_test, y_pred)\n",
    "fig, ax = plt.subplots(figsize=(8,8),facecolor='white')\n",
    "sns.heatmap(conf_mat, annot=True, cmap=\"Reds\", fmt='d',\n",
    "            xticklabels=stance_id_df.Stance.values, \n",
    "            yticklabels=stance_id_df.Stance.values)\n",
    "plt.ylabel('Real')\n",
    "plt.xlabel('Predecido')\n",
    "plt.title(\"Matríz de confusión - SVM\\n\", size=16);"
   ]
  },
  {
   "cell_type": "markdown",
   "metadata": {
    "id": "9vwMzHPxut0F"
   },
   "source": [
    "Con los datos observados se puede notar que el clasificador tiende a clasificar las posturas en \"AGAINST\". Esto probablemente se debe a la alta cantidad de registros que tiene esta clase con respecto a las demás."
   ]
  },
  {
   "cell_type": "code",
   "execution_count": 22,
   "metadata": {
    "colab": {
     "base_uri": "https://localhost:8080/"
    },
    "id": "jOTkPg8j2hsn",
    "outputId": "91a5231f-9ebf-4db4-8767-cc5aab49fc00"
   },
   "outputs": [
    {
     "data": {
      "text/plain": [
       "Stance\n",
       "AGAINST    2409\n",
       "FAVOR      1205\n",
       "Name: Tweet, dtype: int64"
      ]
     },
     "execution_count": 22,
     "metadata": {},
     "output_type": "execute_result"
    }
   ],
   "source": [
    "df1.groupby('Stance').Tweet.count()"
   ]
  },
  {
   "cell_type": "code",
   "execution_count": 23,
   "metadata": {
    "colab": {
     "base_uri": "https://localhost:8080/"
    },
    "id": "K32tjZj5QMjZ",
    "outputId": "0e6e09b0-5991-466f-de22-f11c63259f27"
   },
   "outputs": [
    {
     "data": {
      "text/plain": [
       "(3614, 3)"
      ]
     },
     "execution_count": 23,
     "metadata": {},
     "output_type": "execute_result"
    }
   ],
   "source": [
    "df1.shape"
   ]
  },
  {
   "cell_type": "markdown",
   "metadata": {
    "id": "6db9FAej3C2v"
   },
   "source": [
    "### Corrección del modelo"
   ]
  },
  {
   "cell_type": "markdown",
   "metadata": {
    "id": "1Y27ea7D2rxA"
   },
   "source": [
    "Para tratar de solucionar esta desviación del modelo, eliminaremos 1204 registros clasificados como AGAINST, esto con el objetivo de que la cantidad de registros por cada clase este balanceada."
   ]
  },
  {
   "cell_type": "code",
   "execution_count": 24,
   "metadata": {
    "colab": {
     "base_uri": "https://localhost:8080/",
     "height": 424
    },
    "id": "eRb70PZ3m0jv",
    "outputId": "47d0f262-230f-4bfb-8252-2c626befbd3e"
   },
   "outputs": [
    {
     "data": {
      "text/html": [
       "<div>\n",
       "<style scoped>\n",
       "    .dataframe tbody tr th:only-of-type {\n",
       "        vertical-align: middle;\n",
       "    }\n",
       "\n",
       "    .dataframe tbody tr th {\n",
       "        vertical-align: top;\n",
       "    }\n",
       "\n",
       "    .dataframe thead th {\n",
       "        text-align: right;\n",
       "    }\n",
       "</style>\n",
       "<table border=\"1\" class=\"dataframe\">\n",
       "  <thead>\n",
       "    <tr style=\"text-align: right;\">\n",
       "      <th></th>\n",
       "      <th>Stance</th>\n",
       "      <th>Tweet</th>\n",
       "      <th>stance_id</th>\n",
       "    </tr>\n",
       "  </thead>\n",
       "  <tbody>\n",
       "    <tr>\n",
       "      <th>1516</th>\n",
       "      <td>AGAINST</td>\n",
       "      <td>@deanesmay The Command-and-control mentality r...</td>\n",
       "      <td>0</td>\n",
       "    </tr>\n",
       "    <tr>\n",
       "      <th>1525</th>\n",
       "      <td>AGAINST</td>\n",
       "      <td>@Ehsan_Kassim It's time we make the Housewares...</td>\n",
       "      <td>0</td>\n",
       "    </tr>\n",
       "    <tr>\n",
       "      <th>31</th>\n",
       "      <td>AGAINST</td>\n",
       "      <td>Jesus response to a religious environment  was...</td>\n",
       "      <td>0</td>\n",
       "    </tr>\n",
       "    <tr>\n",
       "      <th>29</th>\n",
       "      <td>AGAINST</td>\n",
       "      <td>I still remember the days when I prayed God fo...</td>\n",
       "      <td>0</td>\n",
       "    </tr>\n",
       "    <tr>\n",
       "      <th>6</th>\n",
       "      <td>AGAINST</td>\n",
       "      <td>Morality is not derived from religion, it prec...</td>\n",
       "      <td>0</td>\n",
       "    </tr>\n",
       "    <tr>\n",
       "      <th>...</th>\n",
       "      <td>...</td>\n",
       "      <td>...</td>\n",
       "      <td>...</td>\n",
       "    </tr>\n",
       "    <tr>\n",
       "      <th>788</th>\n",
       "      <td>FAVOR</td>\n",
       "      <td>At what point do we rename summer \"The Rainy S...</td>\n",
       "      <td>1</td>\n",
       "    </tr>\n",
       "    <tr>\n",
       "      <th>655</th>\n",
       "      <td>FAVOR</td>\n",
       "      <td>Man: this is an issue and needs to be addresse...</td>\n",
       "      <td>1</td>\n",
       "    </tr>\n",
       "    <tr>\n",
       "      <th>664</th>\n",
       "      <td>FAVOR</td>\n",
       "      <td>What a great week for social issues #SCOTUS No...</td>\n",
       "      <td>1</td>\n",
       "    </tr>\n",
       "    <tr>\n",
       "      <th>900</th>\n",
       "      <td>FAVOR</td>\n",
       "      <td>I stand with @HillaryClinton I know she is for...</td>\n",
       "      <td>1</td>\n",
       "    </tr>\n",
       "    <tr>\n",
       "      <th>1199</th>\n",
       "      <td>FAVOR</td>\n",
       "      <td>@Mike_Charmander @MsLatina a right doesn't hav...</td>\n",
       "      <td>1</td>\n",
       "    </tr>\n",
       "  </tbody>\n",
       "</table>\n",
       "<p>2410 rows × 3 columns</p>\n",
       "</div>"
      ],
      "text/plain": [
       "       Stance                                              Tweet  stance_id\n",
       "1516  AGAINST  @deanesmay The Command-and-control mentality r...          0\n",
       "1525  AGAINST  @Ehsan_Kassim It's time we make the Housewares...          0\n",
       "31    AGAINST  Jesus response to a religious environment  was...          0\n",
       "29    AGAINST  I still remember the days when I prayed God fo...          0\n",
       "6     AGAINST  Morality is not derived from religion, it prec...          0\n",
       "...       ...                                                ...        ...\n",
       "788     FAVOR  At what point do we rename summer \"The Rainy S...          1\n",
       "655     FAVOR  Man: this is an issue and needs to be addresse...          1\n",
       "664     FAVOR  What a great week for social issues #SCOTUS No...          1\n",
       "900     FAVOR  I stand with @HillaryClinton I know she is for...          1\n",
       "1199    FAVOR  @Mike_Charmander @MsLatina a right doesn't hav...          1\n",
       "\n",
       "[2410 rows x 3 columns]"
      ]
     },
     "execution_count": 24,
     "metadata": {},
     "output_type": "execute_result"
    }
   ],
   "source": [
    "# Se ordena el dataframe por la columna Stance, lo que coloca los registros con\n",
    "# el orden AGAINST, FAVOR, NONE.\n",
    "# Posteriormente eliminaremos a los primeros 1204 registros, que son parte de\n",
    "# AGAINST. Esto se hace seleccionando los últimos 2410 registros del dataframe.\n",
    "# TOTAL_REGISTROS - REGISTROS A ELIMINAR = REGISTROS A MANTENER\n",
    "# 3614 - 1204 = 2410\n",
    "df_balanced = df1.sort_values(by=['Stance']).tail(2410)\n",
    "df_balanced"
   ]
  },
  {
   "cell_type": "code",
   "execution_count": 25,
   "metadata": {
    "colab": {
     "base_uri": "https://localhost:8080/"
    },
    "id": "x_DFdkU_sHGP",
    "outputId": "608b7247-e0bf-4b68-e8ab-963ccde557d8"
   },
   "outputs": [
    {
     "data": {
      "text/plain": [
       "Stance\n",
       "AGAINST    1205\n",
       "FAVOR      1205\n",
       "Name: Tweet, dtype: int64"
      ]
     },
     "execution_count": 25,
     "metadata": {},
     "output_type": "execute_result"
    }
   ],
   "source": [
    "df_balanced.groupby('Stance').Tweet.count()"
   ]
  },
  {
   "cell_type": "markdown",
   "metadata": {
    "id": "uSxEHMtr48ut"
   },
   "source": [
    "Ahora que las clases están balanceadas, repetimos el proceso de preprocesamiento del texto y entrenamiento del modelo"
   ]
  },
  {
   "cell_type": "code",
   "execution_count": 26,
   "metadata": {
    "id": "Svevf2A05Pnm"
   },
   "outputs": [],
   "source": [
    "# Se transforma cada tweet en un vector de TFIDF\n",
    "# Notar que ahora se utiliza el dataframe df_balanced\n",
    "features = tfidf.fit_transform(df_balanced.Tweet).toarray()\n",
    "\n",
    "# Se utilizan como etiquetas el identificador de la postura\n",
    "labels = df_balanced.stance_id"
   ]
  },
  {
   "cell_type": "code",
   "execution_count": 27,
   "metadata": {
    "id": "EmL8RKDdtxVH"
   },
   "outputs": [],
   "source": [
    "# Se divide los datos en datos de prueba y de entrenamiento\n",
    "X_train, X_test, y_train, y_test, indices_train, indices_test = train_test_split(features,\n",
    "                                                                labels,\n",
    "                                                                df_balanced.index, test_size=0.25,\n",
    "                                                                random_state=1)\n",
    "# Se genera un modelo con los datos de entrenamiento obtenidos\n",
    "model = MultinomialNB()\n",
    "model.fit(X_train, y_train)\n",
    "# Se evalúa con los datos de prueba\n",
    "y_pred = model.predict(X_test)"
   ]
  },
  {
   "cell_type": "code",
   "execution_count": 28,
   "metadata": {
    "colab": {
     "base_uri": "https://localhost:8080/"
    },
    "id": "H979jU0TuVBW",
    "outputId": "fa8c4655-e5aa-4dab-9da2-8ee96e937d68"
   },
   "outputs": [
    {
     "name": "stdout",
     "output_type": "stream",
     "text": [
      "\t\t\tMÉTRICAS DE CLASIFICACIÓN\n",
      "\n",
      "              precision    recall  f1-score   support\n",
      "\n",
      "     AGAINST       0.71      0.76      0.73       288\n",
      "       FAVOR       0.76      0.71      0.74       315\n",
      "\n",
      "    accuracy                           0.73       603\n",
      "   macro avg       0.74      0.74      0.73       603\n",
      "weighted avg       0.74      0.73      0.73       603\n",
      "\n"
     ]
    }
   ],
   "source": [
    "print('\\t\\t\\tMÉTRICAS DE CLASIFICACIÓN\\n')\n",
    "print(metrics.classification_report(y_test, y_pred, \n",
    "                                    target_names= df1.Stance.unique()))"
   ]
  },
  {
   "cell_type": "code",
   "execution_count": 29,
   "metadata": {
    "colab": {
     "base_uri": "https://localhost:8080/",
     "height": 532
    },
    "id": "V_WQp8avuenC",
    "outputId": "3f4a26cb-63d1-4081-b385-11bb7efb9cf1"
   },
   "outputs": [
    {
     "data": {
      "image/png": "[encoded data removed]",
      "text/plain": [
       "<Figure size 576x576 with 2 Axes>"
      ]
     },
     "metadata": {},
     "output_type": "display_data"
    }
   ],
   "source": [
    "conf_mat = confusion_matrix(y_test, y_pred)\n",
    "fig, ax = plt.subplots(figsize=(8,8),facecolor='white')\n",
    "sns.heatmap(conf_mat, annot=True, cmap=\"Reds\", fmt='d',\n",
    "            xticklabels=stance_id_df.Stance.values, \n",
    "            yticklabels=stance_id_df.Stance.values)\n",
    "plt.ylabel('Real')\n",
    "plt.xlabel('Predecido')\n",
    "plt.title(\"Matríz de confusión - SVM\\n\", size=16);"
   ]
  },
  {
   "cell_type": "markdown",
   "metadata": {
    "id": "-XA5zA2-6USy"
   },
   "source": [
    "Se nota que esta vez la matriz de confusión ya tiene un patrón con color obscuro en la diagonal.  \n",
    "Este modelo será el que finalmente utilizaremos."
   ]
  },
  {
   "cell_type": "markdown",
   "metadata": {
    "id": "fFNaYS7xAmOw"
   },
   "source": [
    "## Predicción"
   ]
  },
  {
   "cell_type": "code",
   "execution_count": 30,
   "metadata": {
    "id": "Vzwz1zKFGNrr"
   },
   "outputs": [],
   "source": [
    "X = df_balanced['Tweet'] # Datos de entrada\n",
    "y = df_balanced['Stance'] # Variable a predecir\n",
    "\n",
    "# TF-IDF aprende el vocabulario e idf de los datos de entrenamiento\n",
    "# Es decir, se genera un \"Vectorizador\"\n",
    "fitted_vectorizer = tfidf.fit(X)\n",
    "tfidf_vectorizer_vectors = fitted_vectorizer.transform(X)\n",
    "\n",
    "model = MultinomialNB().fit(tfidf_vectorizer_vectors, y)"
   ]
  },
  {
   "cell_type": "markdown",
   "metadata": {
    "id": "9ST16yiIgJFJ"
   },
   "source": [
    "Para la predicción creamos nuevos tweets que reflejen la postura de una persona. A continuación mostramos dos ejemplos."
   ]
  },
  {
   "cell_type": "code",
   "execution_count": 31,
   "metadata": {
    "colab": {
     "base_uri": "https://localhost:8080/"
    },
    "id": "p8CqyokDIzfS",
    "outputId": "12528e4b-a60c-4586-8600-4c70e02212d5"
   },
   "outputs": [
    {
     "name": "stdout",
     "output_type": "stream",
     "text": [
      "['AGAINST']\n"
     ]
    }
   ],
   "source": [
    "new_tweet = \"\"\"I don't think in that way\"\"\"\n",
    "print(model.predict(fitted_vectorizer.transform([new_tweet])))"
   ]
  },
  {
   "cell_type": "code",
   "execution_count": 32,
   "metadata": {
    "colab": {
     "base_uri": "https://localhost:8080/"
    },
    "id": "KZEgO8O1Wg4u",
    "outputId": "8632a725-7296-4e08-f98f-5547ca7f3c4e"
   },
   "outputs": [
    {
     "name": "stdout",
     "output_type": "stream",
     "text": [
      "['FAVOR']\n"
     ]
    }
   ],
   "source": [
    "new_tweet = \"\"\"She is right\"\"\"\n",
    "print(model.predict(fitted_vectorizer.transform([new_tweet])))"
   ]
  }
 ],
 "metadata": {
  "colab": {
   "name": "ClasificacionPosturas.ipynb",
   "provenance": [],
   "toc_visible": true
  },
  "kernelspec": {
   "display_name": "Python 3",
   "language": "python",
   "name": "python3"
  },
  "language_info": {
   "codemirror_mode": {
    "name": "ipython",
    "version": 3
   },
   "file_extension": ".py",
   "mimetype": "text/x-python",
   "name": "python",
   "nbconvert_exporter": "python",
   "pygments_lexer": "ipython3",
   "version": "3.8.5"
  }
 },
 "nbformat": 4,
 "nbformat_minor": 1
}
